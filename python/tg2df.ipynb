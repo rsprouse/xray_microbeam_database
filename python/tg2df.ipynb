{
 "cells": [
  {
   "cell_type": "markdown",
   "metadata": {},
   "source": [
    "## Textgrids to dataframes\n",
    "\n",
    "Process the inventory of xrmbdb `.TextGrid` files and create `word` and `phone` dataframes for all subjects and utterances. Store results in `.feather` files that can be loaded in the `load_dataframes` notebook."
   ]
  },
  {
   "cell_type": "code",
   "execution_count": 1,
   "metadata": {},
   "outputs": [],
   "source": [
    "import os\n",
    "import pandas as pd\n",
    "import numpy as np\n",
    "from audiolabel import read_label  # from https://github.com/rsprouse/audiolabel\n",
    "from phonlab.utils import dir2df   # from https://github.com/rsprouse/phonlab"
   ]
  },
  {
   "cell_type": "code",
   "execution_count": 2,
   "metadata": {},
   "outputs": [],
   "source": [
    "# Location of speaker folders containing .TextGrid files\n",
    "datadir = '../annotation'"
   ]
  },
  {
   "cell_type": "markdown",
   "metadata": {},
   "source": [
    "Define a function to load a `.TextGrid` file and return `phone` and `word` dataframes with additional metadata columns."
   ]
  },
  {
   "cell_type": "code",
   "execution_count": 3,
   "metadata": {},
   "outputs": [],
   "source": [
    "def tg2phwd(row):\n",
    "    '''Read words and phones from textgrid and return tuple of (phone, word) dataframes.'''\n",
    "    \n",
    "    # Read textgrid identified by `row` and read into dataframes.\n",
    "    wavpath = os.path.join(row.relpath, row.fname.replace('.TextGrid', '.wav'))\n",
    "    phdf, wddf = read_label(os.path.join(datadir, row.relpath, row.fname), ftype='praat')\n",
    "    \n",
    "    # Add metadata columns and remove `fname` column.\n",
    "    bname = os.path.splitext(row.fname)[0]\n",
    "    try:\n",
    "        uttid, rep = bname.split('_')\n",
    "        rep = rep\n",
    "    except:\n",
    "        uttid = bname\n",
    "        rep = '1'\n",
    "    phdf = phdf.assign(\n",
    "        speaker=row.relpath, uttid=uttid, rep=rep, wavpath=wavpath\n",
    "    ).drop('fname', axis='columns')\n",
    "    wddf = wddf.assign(\n",
    "        speaker=row.relpath, uttid=uttid, rep=rep, wavpath=wavpath\n",
    "    ).drop('fname', axis='columns')\n",
    "    \n",
    "    return (phdf, wddf)"
   ]
  },
  {
   "cell_type": "markdown",
   "metadata": {},
   "source": [
    "Get an inventory of `.TextGrid` files for processing."
   ]
  },
  {
   "cell_type": "code",
   "execution_count": 4,
   "metadata": {},
   "outputs": [
    {
     "data": {
      "text/html": [
       "<div>\n",
       "<style scoped>\n",
       "    .dataframe tbody tr th:only-of-type {\n",
       "        vertical-align: middle;\n",
       "    }\n",
       "\n",
       "    .dataframe tbody tr th {\n",
       "        vertical-align: top;\n",
       "    }\n",
       "\n",
       "    .dataframe thead th {\n",
       "        text-align: right;\n",
       "    }\n",
       "</style>\n",
       "<table border=\"1\" class=\"dataframe\">\n",
       "  <thead>\n",
       "    <tr style=\"text-align: right;\">\n",
       "      <th></th>\n",
       "      <th>relpath</th>\n",
       "      <th>fname</th>\n",
       "    </tr>\n",
       "  </thead>\n",
       "  <tbody>\n",
       "    <tr>\n",
       "      <th>0</th>\n",
       "      <td>JW11</td>\n",
       "      <td>tp001.TextGrid</td>\n",
       "    </tr>\n",
       "    <tr>\n",
       "      <th>1</th>\n",
       "      <td>JW11</td>\n",
       "      <td>tp002.TextGrid</td>\n",
       "    </tr>\n",
       "    <tr>\n",
       "      <th>2</th>\n",
       "      <td>JW11</td>\n",
       "      <td>tp003.TextGrid</td>\n",
       "    </tr>\n",
       "    <tr>\n",
       "      <th>3</th>\n",
       "      <td>JW11</td>\n",
       "      <td>tp004.TextGrid</td>\n",
       "    </tr>\n",
       "    <tr>\n",
       "      <th>4</th>\n",
       "      <td>JW11</td>\n",
       "      <td>tp005.TextGrid</td>\n",
       "    </tr>\n",
       "    <tr>\n",
       "      <th>...</th>\n",
       "      <td>...</td>\n",
       "      <td>...</td>\n",
       "    </tr>\n",
       "    <tr>\n",
       "      <th>5041</th>\n",
       "      <td>JW63</td>\n",
       "      <td>tp102_2.TextGrid</td>\n",
       "    </tr>\n",
       "    <tr>\n",
       "      <th>5042</th>\n",
       "      <td>JW63</td>\n",
       "      <td>tp103.TextGrid</td>\n",
       "    </tr>\n",
       "    <tr>\n",
       "      <th>5043</th>\n",
       "      <td>JW63</td>\n",
       "      <td>tp103_2.TextGrid</td>\n",
       "    </tr>\n",
       "    <tr>\n",
       "      <th>5044</th>\n",
       "      <td>JW63</td>\n",
       "      <td>tp104_2.TextGrid</td>\n",
       "    </tr>\n",
       "    <tr>\n",
       "      <th>5045</th>\n",
       "      <td>JW63</td>\n",
       "      <td>tp105.TextGrid</td>\n",
       "    </tr>\n",
       "  </tbody>\n",
       "</table>\n",
       "<p>5046 rows × 2 columns</p>\n",
       "</div>"
      ],
      "text/plain": [
       "     relpath             fname\n",
       "0       JW11    tp001.TextGrid\n",
       "1       JW11    tp002.TextGrid\n",
       "2       JW11    tp003.TextGrid\n",
       "3       JW11    tp004.TextGrid\n",
       "4       JW11    tp005.TextGrid\n",
       "...      ...               ...\n",
       "5041    JW63  tp102_2.TextGrid\n",
       "5042    JW63    tp103.TextGrid\n",
       "5043    JW63  tp103_2.TextGrid\n",
       "5044    JW63  tp104_2.TextGrid\n",
       "5045    JW63    tp105.TextGrid\n",
       "\n",
       "[5046 rows x 2 columns]"
      ]
     },
     "execution_count": 4,
     "metadata": {},
     "output_type": "execute_result"
    }
   ],
   "source": [
    "tgdf = dir2df(datadir, fnpat='.TextGrid$')\n",
    "tgdf"
   ]
  },
  {
   "cell_type": "markdown",
   "metadata": {},
   "source": [
    "For a convenient end result, sort by numeric speaker identifier instead of alphabetic."
   ]
  },
  {
   "cell_type": "code",
   "execution_count": 5,
   "metadata": {},
   "outputs": [
    {
     "data": {
      "text/html": [
       "<div>\n",
       "<style scoped>\n",
       "    .dataframe tbody tr th:only-of-type {\n",
       "        vertical-align: middle;\n",
       "    }\n",
       "\n",
       "    .dataframe tbody tr th {\n",
       "        vertical-align: top;\n",
       "    }\n",
       "\n",
       "    .dataframe thead th {\n",
       "        text-align: right;\n",
       "    }\n",
       "</style>\n",
       "<table border=\"1\" class=\"dataframe\">\n",
       "  <thead>\n",
       "    <tr style=\"text-align: right;\">\n",
       "      <th></th>\n",
       "      <th>relpath</th>\n",
       "      <th>fname</th>\n",
       "    </tr>\n",
       "  </thead>\n",
       "  <tbody>\n",
       "    <tr>\n",
       "      <th>0</th>\n",
       "      <td>JW11</td>\n",
       "      <td>tp001.TextGrid</td>\n",
       "    </tr>\n",
       "    <tr>\n",
       "      <th>77</th>\n",
       "      <td>JW11</td>\n",
       "      <td>tp077.TextGrid</td>\n",
       "    </tr>\n",
       "    <tr>\n",
       "      <th>76</th>\n",
       "      <td>JW11</td>\n",
       "      <td>tp076.TextGrid</td>\n",
       "    </tr>\n",
       "    <tr>\n",
       "      <th>75</th>\n",
       "      <td>JW11</td>\n",
       "      <td>tp075.TextGrid</td>\n",
       "    </tr>\n",
       "    <tr>\n",
       "      <th>74</th>\n",
       "      <td>JW11</td>\n",
       "      <td>tp074.TextGrid</td>\n",
       "    </tr>\n",
       "    <tr>\n",
       "      <th>...</th>\n",
       "      <td>...</td>\n",
       "      <td>...</td>\n",
       "    </tr>\n",
       "    <tr>\n",
       "      <th>3593</th>\n",
       "      <td>JW502</td>\n",
       "      <td>tp029.TextGrid</td>\n",
       "    </tr>\n",
       "    <tr>\n",
       "      <th>3592</th>\n",
       "      <td>JW502</td>\n",
       "      <td>tp028.TextGrid</td>\n",
       "    </tr>\n",
       "    <tr>\n",
       "      <th>3591</th>\n",
       "      <td>JW502</td>\n",
       "      <td>tp027.TextGrid</td>\n",
       "    </tr>\n",
       "    <tr>\n",
       "      <th>3589</th>\n",
       "      <td>JW502</td>\n",
       "      <td>tp025.TextGrid</td>\n",
       "    </tr>\n",
       "    <tr>\n",
       "      <th>3669</th>\n",
       "      <td>JW502</td>\n",
       "      <td>tp105.TextGrid</td>\n",
       "    </tr>\n",
       "  </tbody>\n",
       "</table>\n",
       "<p>5046 rows × 2 columns</p>\n",
       "</div>"
      ],
      "text/plain": [
       "     relpath           fname\n",
       "0       JW11  tp001.TextGrid\n",
       "77      JW11  tp077.TextGrid\n",
       "76      JW11  tp076.TextGrid\n",
       "75      JW11  tp075.TextGrid\n",
       "74      JW11  tp074.TextGrid\n",
       "...      ...             ...\n",
       "3593   JW502  tp029.TextGrid\n",
       "3592   JW502  tp028.TextGrid\n",
       "3591   JW502  tp027.TextGrid\n",
       "3589   JW502  tp025.TextGrid\n",
       "3669   JW502  tp105.TextGrid\n",
       "\n",
       "[5046 rows x 2 columns]"
      ]
     },
     "execution_count": 5,
     "metadata": {},
     "output_type": "execute_result"
    }
   ],
   "source": [
    "tgdf = tgdf.loc[\n",
    "    tgdf.relpath.str.replace('JW', '').astype(int).sort_values().index\n",
    "]\n",
    "tgdf"
   ]
  },
  {
   "cell_type": "markdown",
   "metadata": {},
   "source": [
    "The output of applying `tg2phwd` is assembled into a list of tuples, where the first element of the tuple is a `phone` dataframe and the second element is a `word` dataframe. These are concatenated separately to create master `phone` and `word` dataframes created from all `.TextGrid` files."
   ]
  },
  {
   "cell_type": "code",
   "execution_count": 6,
   "metadata": {},
   "outputs": [],
   "source": [
    "dftuples = tgdf.apply(tg2phwd, axis='columns')"
   ]
  },
  {
   "cell_type": "code",
   "execution_count": 7,
   "metadata": {},
   "outputs": [],
   "source": [
    "allph = pd.concat([t[0] for t in dftuples]).reset_index(drop=True)\n",
    "allwd = pd.concat([t[1] for t in dftuples]).reset_index(drop=True)"
   ]
  },
  {
   "cell_type": "markdown",
   "metadata": {},
   "source": [
    "Cast columns to more efficient dtypes and give better names to the `label` columns."
   ]
  },
  {
   "cell_type": "code",
   "execution_count": 8,
   "metadata": {},
   "outputs": [],
   "source": [
    "for col in ('label', 'speaker', 'uttid', 'rep', 'wavpath'):\n",
    "    allph[col] = allph[col].astype('category')\n",
    "    allwd[col] = allwd[col].astype('category')\n",
    "for col in ('t1', 't2'):\n",
    "    allph[col] = allph[col].astype(np.float32)\n",
    "    allwd[col] = allwd[col].astype(np.float32)\n",
    "allph = allph.rename({'label': 'phone'}, axis='columns')\n",
    "allwd = allwd.rename({'label': 'word'}, axis='columns')"
   ]
  },
  {
   "cell_type": "markdown",
   "metadata": {},
   "source": [
    "Store the dataframes in `.feather` files."
   ]
  },
  {
   "cell_type": "code",
   "execution_count": 9,
   "metadata": {},
   "outputs": [],
   "source": [
    "allwd.to_feather(os.path.join(datadir, 'all_words.feather'))\n",
    "allph.to_feather(os.path.join(datadir, 'all_phones.feather'))"
   ]
  },
  {
   "cell_type": "markdown",
   "metadata": {},
   "source": [
    "Also store as `.csv` files."
   ]
  },
  {
   "cell_type": "code",
   "execution_count": null,
   "metadata": {},
   "outputs": [],
   "source": [
    "allwd.to_csv(os.path.join(datadir, 'all_words.csv'), index=False)\n",
    "allph.to_csv(os.path.join(datadir, 'all_phones.csv'), index=False)"
   ]
  }
 ],
 "metadata": {
  "kernelspec": {
   "display_name": "xray Python with yaml update",
   "language": "python",
   "name": "xray"
  },
  "language_info": {
   "codemirror_mode": {
    "name": "ipython",
    "version": 3
   },
   "file_extension": ".py",
   "mimetype": "text/x-python",
   "name": "python",
   "nbconvert_exporter": "python",
   "pygments_lexer": "ipython3",
   "version": "3.8.5"
  }
 },
 "nbformat": 4,
 "nbformat_minor": 2
}
